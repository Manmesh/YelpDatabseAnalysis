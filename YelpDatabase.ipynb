{
 "cells": [
  {
   "cell_type": "code",
   "execution_count": 2,
   "id": "b13f667e",
   "metadata": {},
   "outputs": [],
   "source": [
    "import pandas as pd\n",
    "import json\n",
    "from sqlalchemy import create_engine\n",
    "import sqlalchemy.dialects.sqlite\n",
    "from sqlalchemy.orm import declarative_base\n",
    "import sqlite3"
   ]
  },
  {
   "cell_type": "code",
   "execution_count": 3,
   "id": "fdbd6700",
   "metadata": {},
   "outputs": [
    {
     "name": "stdout",
     "output_type": "stream",
     "text": [
      "(150346, 14)\n"
     ]
    }
   ],
   "source": [
    "with open(\"C:\\\\Users\\\\manme\\\\Downloads\\\\archive (1)\\\\yelp_academic_dataset_business.json\", 'r',encoding=\"utf-8\") as f:\n",
    "   business_data = [json. loads (line) for line in f]\n",
    "business_df = pd.DataFrame (business_data)\n",
    "print(business_df.shape)"
   ]
  },
  {
   "cell_type": "code",
   "execution_count": 4,
   "id": "e7d57541",
   "metadata": {},
   "outputs": [
    {
     "name": "stdout",
     "output_type": "stream",
     "text": [
      "(131930, 2)\n"
     ]
    }
   ],
   "source": [
    "with open(\"C:\\\\Users\\\\manme\\\\Downloads\\\\archive (1)\\\\yelp_academic_dataset_checkin.json\", 'r',encoding=\"utf-8\") as f:\n",
    "   checkin_data = [json. loads (line) for line in f]\n",
    "checkin_df = pd.DataFrame(checkin_data)\n",
    "           \n",
    "print (checkin_df.shape)"
   ]
  },
  {
   "cell_type": "code",
   "execution_count": 5,
   "id": "b5b94361",
   "metadata": {},
   "outputs": [
    {
     "name": "stdout",
     "output_type": "stream",
     "text": [
      "(6990280, 9)\n"
     ]
    }
   ],
   "source": [
    "with open(\"C:\\\\Users\\\\manme\\\\Downloads\\\\archive (1)\\\\yelp_academic_dataset_review.json\", 'r',encoding=\"utf-8\") as f:\n",
    "   review_data = [json. loads (line) for line in f]\n",
    "review_df = pd.DataFrame(review_data)\n",
    "print (review_df.shape)"
   ]
  },
  {
   "cell_type": "code",
   "execution_count": 6,
   "id": "3cf44d90",
   "metadata": {},
   "outputs": [
    {
     "name": "stdout",
     "output_type": "stream",
     "text": [
      "(908915, 5)\n"
     ]
    }
   ],
   "source": [
    "with open(\"C:\\\\Users\\\\manme\\\\Downloads\\\\archive (1)\\\\yelp_academic_dataset_tip.json\", 'r',encoding=\"utf-8\") as f:\n",
    "    tip_data = [json. loads (line) for line in f]\n",
    "tip_df = pd.DataFrame(tip_data)\n",
    "print(tip_df.shape)"
   ]
  },
  {
   "cell_type": "code",
   "execution_count": 7,
   "id": "5e649f97",
   "metadata": {},
   "outputs": [
    {
     "name": "stdout",
     "output_type": "stream",
     "text": [
      "(1987897, 22)\n"
     ]
    }
   ],
   "source": [
    "with open(\"C:\\\\Users\\\\manme\\\\Downloads\\\\archive (1)\\\\yelp_academic_dataset_user.json\", 'r',encoding=\"utf-8\") as f:\n",
    "    user_data  = [json. loads (line) for line in f]\n",
    "user_df = pd.DataFrame(user_data)\n",
    "print(user_df.shape)"
   ]
  },
  {
   "cell_type": "code",
   "execution_count": null,
   "id": "393f493e",
   "metadata": {},
   "outputs": [],
   "source": [
    "print (\"2\")"
   ]
  },
  {
   "cell_type": "code",
   "execution_count": 8,
   "id": "0401dc99",
   "metadata": {},
   "outputs": [],
   "source": [
    "business_df.drop(['attributes','hours'],axis=1,inplace=True)"
   ]
  },
  {
   "cell_type": "code",
   "execution_count": 9,
   "id": "7f9dba9c",
   "metadata": {},
   "outputs": [],
   "source": [
    "engine = create_engine('sqlite:///yelp.db')"
   ]
  },
  {
   "cell_type": "code",
   "execution_count": null,
   "id": "2721297a",
   "metadata": {},
   "outputs": [],
   "source": [
    "###import mysql.connector as sql\n",
    "#mydb = sql.connect(\n",
    "#host=\"localhost\",\n",
    "#user=\"root\",\n",
    "#passwd=\"314159\",\n",
    "#use_pure = True\n",
    "#)\n",
    "#print (mydb)"
   ]
  },
  {
   "cell_type": "code",
   "execution_count": 10,
   "id": "c07c9a0f",
   "metadata": {},
   "outputs": [],
   "source": [
    "def load_dataframe(df,table_name, engine):\n",
    "    df.to_sql(table_name,con=engine,if_exists='replace',index=False)\n",
    "    \n",
    "#Load each DataFrame into a separate table\n",
    "load_dataframe(business_df,'business',engine)\n",
    "load_dataframe(review_df,'review',engine)\n",
    "load_dataframe(user_df,'user',engine)\n",
    "load_dataframe(tip_df,'tip',engine)\n",
    "load_dataframe(checkin_df,'checkin',engine)"
   ]
  },
  {
   "cell_type": "code",
   "execution_count": null,
   "id": "152af4ad-2d5b-4901-af97-598b5af33f85",
   "metadata": {},
   "outputs": [],
   "source": []
  }
 ],
 "metadata": {
  "kernelspec": {
   "display_name": "Python 3 (ipykernel)",
   "language": "python",
   "name": "python3"
  },
  "language_info": {
   "codemirror_mode": {
    "name": "ipython",
    "version": 3
   },
   "file_extension": ".py",
   "mimetype": "text/x-python",
   "name": "python",
   "nbconvert_exporter": "python",
   "pygments_lexer": "ipython3",
   "version": "3.12.5"
  }
 },
 "nbformat": 4,
 "nbformat_minor": 5
}
